{
  "cells": [
    {
      "cell_type": "markdown",
      "id": "d92b82a0-afdd-4da5-b5b5-e95781a70824",
      "metadata": {
        "id": "d92b82a0-afdd-4da5-b5b5-e95781a70824"
      },
      "source": [
        "This notebook will walk you through an example of setting up a model for the RentTheRunway dataset stored in a csv file and then fetching ranked movies for a specific user.\n",
        "\n",
        "Let's get started! 🚀"
      ]
    },
    {
      "cell_type": "markdown",
      "id": "a6aa661e-05b6-427f-a721-19135e2fdc84",
      "metadata": {
        "id": "a6aa661e-05b6-427f-a721-19135e2fdc84"
      },
      "source": [
        "## Setup"
      ]
    },
    {
      "cell_type": "markdown",
      "id": "849cf47a-09a7-408c-a77f-8978922e688d",
      "metadata": {
        "id": "849cf47a-09a7-408c-a77f-8978922e688d"
      },
      "source": [
        "Replace `<YOUR_API_KEY>` with your API key below.\n",
        "\n",
        "*If you don't have an API Key, feel free to [signup on our website](https://www.shaped.ai/#contact-us) :)*"
      ]
    },
    {
      "cell_type": "code",
      "execution_count": 4,
      "id": "5f351fec-c629-4514-866c-7ac1423ff6d4",
      "metadata": {
        "id": "5f351fec-c629-4514-866c-7ac1423ff6d4"
      },
      "outputs": [],
      "source": [
        "import os\n",
        "\n",
        "SHAPED_API_KEY = os.getenv('TEST_SHAPED_API_KEY', '<YOUR_API_KEY>')"
      ]
    },
    {
      "cell_type": "markdown",
      "id": "fd661f0a-59f2-4af2-b5f1-8292b706564d",
      "metadata": {
        "id": "fd661f0a-59f2-4af2-b5f1-8292b706564d"
      },
      "source": [
        "1. Install `shaped` to leverage the Shaped CLI to create, view, and use your model.\n",
        "2. Install `pandas` to view and edit the sample dataset.\n",
        "3. Install `pyyaml` to create Shaped Dataset and Model schema files."
      ]
    },
    {
      "cell_type": "code",
      "execution_count": null,
      "id": "29e300d3-1047-423f-9622-77528a307daa",
      "metadata": {
        "id": "29e300d3-1047-423f-9622-77528a307daa",
        "scrolled": true
      },
      "outputs": [],
      "source": [
        "! pip install shaped\n",
        "! pip install pandas\n",
        "! pip install pyyaml"
      ]
    },
    {
      "cell_type": "markdown",
      "id": "2faf1fc0-8442-4665-bf1d-c1ffa6954efa",
      "metadata": {
        "id": "2faf1fc0-8442-4665-bf1d-c1ffa6954efa"
      },
      "source": [
        "Initialize the CLI with your API key."
      ]
    },
    {
      "cell_type": "code",
      "execution_count": null,
      "id": "1548eef7-e6e8-496e-88f0-5884b6fc861d",
      "metadata": {
        "id": "1548eef7-e6e8-496e-88f0-5884b6fc861d"
      },
      "outputs": [],
      "source": [
        "! shaped init --api-key $SHAPED_API_KEY"
      ]
    },
    {
      "cell_type": "markdown",
      "id": "c733f1d8-a2f6-49c5-8e7d-94e133d41a42",
      "metadata": {
        "id": "c733f1d8-a2f6-49c5-8e7d-94e133d41a42"
      },
      "source": [
        "## Downlaod Public Dataset"
      ]
    },
    {
      "cell_type": "markdown",
      "id": "d2fcdfaf-9fa1-4203-a3c1-53ead12c7718",
      "metadata": {
        "id": "d2fcdfaf-9fa1-4203-a3c1-53ead12c7718"
      },
      "source": [
        "Fetch the publicly hosted RentTheRunway dataset."
      ]
    },
    {
      "cell_type": "code",
      "execution_count": 7,
      "id": "949aef23-999a-488a-91b1-6e3646908371",
      "metadata": {
        "colab": {
          "base_uri": "https://localhost:8080/"
        },
        "id": "949aef23-999a-488a-91b1-6e3646908371",
        "outputId": "a4d1a9e6-7c2e-4905-a67d-6e33139ab09a"
      },
      "outputs": [
        {
          "name": "stdout",
          "output_type": "stream",
          "text": [
            "Downloading RentTheRunway data...\n",
            "--2025-03-05 12:27:22--  https://mcauleylab.ucsd.edu/public_datasets/data/renttherunway/renttherunway_final_data.json.gz\n",
            "Resolving mcauleylab.ucsd.edu (mcauleylab.ucsd.edu)... 169.228.63.88\n",
            "Connecting to mcauleylab.ucsd.edu (mcauleylab.ucsd.edu)|169.228.63.88|:443... connected.\n",
            "HTTP request sent, awaiting response... 200 OK\n",
            "Length: 30744190 (29M) [application/gzip]\n",
            "Saving to: ‘notebook_assets/renttherunway_final_data.json.gz’\n",
            "\n",
            "renttherunway_final 100%[===================>]  29.32M  88.8MB/s    in 0.3s    \n",
            "\n",
            "2025-03-05 12:27:22 (88.8 MB/s) - ‘notebook_assets/renttherunway_final_data.json.gz’ saved [30744190/30744190]\n",
            "\n"
          ]
        }
      ],
      "source": [
        "! echo \"Downloading RentTheRunway data...\"\n",
        "\n",
        "DIR_NAME = \"notebook_assets\"\n",
        "! wget https://mcauleylab.ucsd.edu/public_datasets/data/renttherunway/renttherunway_final_data.json.gz --no-check-certificate -P $DIR_NAME\n",
        "! gunzip $DIR_NAME/renttherunway_final_data.json.gz"
      ]
    },
    {
      "cell_type": "markdown",
      "id": "02eecd24-b47e-44b0-955e-e2d99ba2b03c",
      "metadata": {
        "id": "02eecd24-b47e-44b0-955e-e2d99ba2b03c"
      },
      "source": [
        "Let's take a look at the downloaded dataset. There is a JSON file called ``renttherunway_final_data.json`` which inlcudes information about events, users and items in one table. Let us convert the data in this JSON file into a .csv file.\n",
        "\n",
        "Additionally let us preprocess the weight and height columns into numerical type. In the raw data, the rating column is available in 1-10 range. Let us preprocess such that any value > 8 is considered as 1 and <=8 as 0.\n",
        "\n",
        "Finally lets rename some columns so that they are in a format supported by shaped platform (spaces are not allowed in the column names)."
      ]
    },
    {
      "cell_type": "code",
      "execution_count": 8,
      "id": "d10171e5-1935-4900-a20a-0af906287380",
      "metadata": {
        "colab": {
          "base_uri": "https://localhost:8080/",
          "height": 293
        },
        "id": "d10171e5-1935-4900-a20a-0af906287380",
        "outputId": "65505bba-05bc-4847-d420-7e9bad34dc99"
      },
      "outputs": [
        {
          "data": {
            "application/vnd.google.colaboratory.intrinsic+json": {
              "summary": "{\n  \"name\": \"display(data\",\n  \"rows\": 5,\n  \"fields\": [\n    {\n      \"column\": \"fit\",\n      \"properties\": {\n        \"dtype\": \"category\",\n        \"num_unique_values\": 1,\n        \"samples\": [\n          \"fit\"\n        ],\n        \"semantic_type\": \"\",\n        \"description\": \"\"\n      }\n    },\n    {\n      \"column\": \"user_id\",\n      \"properties\": {\n        \"dtype\": \"number\",\n        \"std\": 290182,\n        \"min\": 151944,\n        \"max\": 909926,\n        \"num_unique_values\": 5,\n        \"samples\": [\n          273551\n        ],\n        \"semantic_type\": \"\",\n        \"description\": \"\"\n      }\n    },\n    {\n      \"column\": \"bust_size\",\n      \"properties\": {\n        \"dtype\": \"string\",\n        \"num_unique_values\": 3,\n        \"samples\": [\n          \"34d\"\n        ],\n        \"semantic_type\": \"\",\n        \"description\": \"\"\n      }\n    },\n    {\n      \"column\": \"item_id\",\n      \"properties\": {\n        \"dtype\": \"number\",\n        \"std\": 880086,\n        \"min\": 126335,\n        \"max\": 2260466,\n        \"num_unique_values\": 5,\n        \"samples\": [\n          153475\n        ],\n        \"semantic_type\": \"\",\n        \"description\": \"\"\n      }\n    },\n    {\n      \"column\": \"weight\",\n      \"properties\": {\n        \"dtype\": \"number\",\n        \"std\": 5.560275772537426,\n        \"min\": 132.0,\n        \"max\": 145.0,\n        \"num_unique_values\": 4,\n        \"samples\": [\n          132.0\n        ],\n        \"semantic_type\": \"\",\n        \"description\": \"\"\n      }\n    },\n    {\n      \"column\": \"rating\",\n      \"properties\": {\n        \"dtype\": \"number\",\n        \"std\": 0,\n        \"min\": 0,\n        \"max\": 1,\n        \"num_unique_values\": 2,\n        \"samples\": [\n          0\n        ],\n        \"semantic_type\": \"\",\n        \"description\": \"\"\n      }\n    },\n    {\n      \"column\": \"rented_for\",\n      \"properties\": {\n        \"dtype\": \"string\",\n        \"num_unique_values\": 5,\n        \"samples\": [\n          \"other\"\n        ],\n        \"semantic_type\": \"\",\n        \"description\": \"\"\n      }\n    },\n    {\n      \"column\": \"review_text\",\n      \"properties\": {\n        \"dtype\": \"string\",\n        \"num_unique_values\": 5,\n        \"samples\": [\n          \"I rented this dress for a photo shoot. The theme was \\\"Hollywood Glam and Big Beautiful Hats\\\". The dress was very comfortable and easy to move around in. It is definitely on my list to rent again for another formal event. \"\n        ],\n        \"semantic_type\": \"\",\n        \"description\": \"\"\n      }\n    },\n    {\n      \"column\": \"body_type\",\n      \"properties\": {\n        \"dtype\": \"string\",\n        \"num_unique_values\": 4,\n        \"samples\": [\n          \"straight & narrow\"\n        ],\n        \"semantic_type\": \"\",\n        \"description\": \"\"\n      }\n    },\n    {\n      \"column\": \"review_summary\",\n      \"properties\": {\n        \"dtype\": \"string\",\n        \"num_unique_values\": 5,\n        \"samples\": [\n          \"I felt so glamourous!!!\"\n        ],\n        \"semantic_type\": \"\",\n        \"description\": \"\"\n      }\n    },\n    {\n      \"column\": \"category\",\n      \"properties\": {\n        \"dtype\": \"string\",\n        \"num_unique_values\": 4,\n        \"samples\": [\n          \"gown\"\n        ],\n        \"semantic_type\": \"\",\n        \"description\": \"\"\n      }\n    },\n    {\n      \"column\": \"height\",\n      \"properties\": {\n        \"dtype\": \"number\",\n        \"std\": 2.073644135332772,\n        \"min\": 64.0,\n        \"max\": 69.0,\n        \"num_unique_values\": 5,\n        \"samples\": [\n          66.0\n        ],\n        \"semantic_type\": \"\",\n        \"description\": \"\"\n      }\n    },\n    {\n      \"column\": \"size\",\n      \"properties\": {\n        \"dtype\": \"number\",\n        \"std\": 4,\n        \"min\": 4,\n        \"max\": 14,\n        \"num_unique_values\": 4,\n        \"samples\": [\n          12\n        ],\n        \"semantic_type\": \"\",\n        \"description\": \"\"\n      }\n    },\n    {\n      \"column\": \"age\",\n      \"properties\": {\n        \"dtype\": \"number\",\n        \"std\": 38.0946190425892,\n        \"min\": 27.0,\n        \"max\": 116.0,\n        \"num_unique_values\": 5,\n        \"samples\": [\n          36.0\n        ],\n        \"semantic_type\": \"\",\n        \"description\": \"\"\n      }\n    },\n    {\n      \"column\": \"review_date\",\n      \"properties\": {\n        \"dtype\": \"object\",\n        \"num_unique_values\": 5,\n        \"samples\": [\n          \"June 18, 2013\"\n        ],\n        \"semantic_type\": \"\",\n        \"description\": \"\"\n      }\n    }\n  ]\n}",
              "type": "dataframe"
            },
            "text/html": [
              "\n",
              "  <div id=\"df-5cf9fe37-2e6c-4f02-9dbd-8b8e7b234907\" class=\"colab-df-container\">\n",
              "    <div>\n",
              "<style scoped>\n",
              "    .dataframe tbody tr th:only-of-type {\n",
              "        vertical-align: middle;\n",
              "    }\n",
              "\n",
              "    .dataframe tbody tr th {\n",
              "        vertical-align: top;\n",
              "    }\n",
              "\n",
              "    .dataframe thead th {\n",
              "        text-align: right;\n",
              "    }\n",
              "</style>\n",
              "<table border=\"1\" class=\"dataframe\">\n",
              "  <thead>\n",
              "    <tr style=\"text-align: right;\">\n",
              "      <th></th>\n",
              "      <th>fit</th>\n",
              "      <th>user_id</th>\n",
              "      <th>bust_size</th>\n",
              "      <th>item_id</th>\n",
              "      <th>weight</th>\n",
              "      <th>rating</th>\n",
              "      <th>rented_for</th>\n",
              "      <th>review_text</th>\n",
              "      <th>body_type</th>\n",
              "      <th>review_summary</th>\n",
              "      <th>category</th>\n",
              "      <th>height</th>\n",
              "      <th>size</th>\n",
              "      <th>age</th>\n",
              "      <th>review_date</th>\n",
              "    </tr>\n",
              "  </thead>\n",
              "  <tbody>\n",
              "    <tr>\n",
              "      <th>0</th>\n",
              "      <td>fit</td>\n",
              "      <td>420272</td>\n",
              "      <td>34d</td>\n",
              "      <td>2260466</td>\n",
              "      <td>137.0</td>\n",
              "      <td>1</td>\n",
              "      <td>vacation</td>\n",
              "      <td>An adorable romper! Belt and zipper were a lit...</td>\n",
              "      <td>hourglass</td>\n",
              "      <td>So many compliments!</td>\n",
              "      <td>romper</td>\n",
              "      <td>68.0</td>\n",
              "      <td>14</td>\n",
              "      <td>28.0</td>\n",
              "      <td>April 20, 2016</td>\n",
              "    </tr>\n",
              "    <tr>\n",
              "      <th>1</th>\n",
              "      <td>fit</td>\n",
              "      <td>273551</td>\n",
              "      <td>34b</td>\n",
              "      <td>153475</td>\n",
              "      <td>132.0</td>\n",
              "      <td>1</td>\n",
              "      <td>other</td>\n",
              "      <td>I rented this dress for a photo shoot. The the...</td>\n",
              "      <td>straight &amp; narrow</td>\n",
              "      <td>I felt so glamourous!!!</td>\n",
              "      <td>gown</td>\n",
              "      <td>66.0</td>\n",
              "      <td>12</td>\n",
              "      <td>36.0</td>\n",
              "      <td>June 18, 2013</td>\n",
              "    </tr>\n",
              "    <tr>\n",
              "      <th>2</th>\n",
              "      <td>fit</td>\n",
              "      <td>360448</td>\n",
              "      <td>NaN</td>\n",
              "      <td>1063761</td>\n",
              "      <td>NaN</td>\n",
              "      <td>1</td>\n",
              "      <td>party</td>\n",
              "      <td>This hugged in all the right places! It was a ...</td>\n",
              "      <td>NaN</td>\n",
              "      <td>It was a great time to celebrate the (almost) ...</td>\n",
              "      <td>sheath</td>\n",
              "      <td>64.0</td>\n",
              "      <td>4</td>\n",
              "      <td>116.0</td>\n",
              "      <td>December 14, 2015</td>\n",
              "    </tr>\n",
              "    <tr>\n",
              "      <th>3</th>\n",
              "      <td>fit</td>\n",
              "      <td>909926</td>\n",
              "      <td>34c</td>\n",
              "      <td>126335</td>\n",
              "      <td>135.0</td>\n",
              "      <td>0</td>\n",
              "      <td>formal affair</td>\n",
              "      <td>I rented this for my company's black tie award...</td>\n",
              "      <td>pear</td>\n",
              "      <td>Dress arrived on time and in perfect condition.</td>\n",
              "      <td>dress</td>\n",
              "      <td>65.0</td>\n",
              "      <td>8</td>\n",
              "      <td>34.0</td>\n",
              "      <td>February 12, 2014</td>\n",
              "    </tr>\n",
              "    <tr>\n",
              "      <th>4</th>\n",
              "      <td>fit</td>\n",
              "      <td>151944</td>\n",
              "      <td>34b</td>\n",
              "      <td>616682</td>\n",
              "      <td>145.0</td>\n",
              "      <td>1</td>\n",
              "      <td>wedding</td>\n",
              "      <td>I have always been petite in my upper body and...</td>\n",
              "      <td>athletic</td>\n",
              "      <td>Was in love with this dress !!!</td>\n",
              "      <td>gown</td>\n",
              "      <td>69.0</td>\n",
              "      <td>12</td>\n",
              "      <td>27.0</td>\n",
              "      <td>September 26, 2016</td>\n",
              "    </tr>\n",
              "  </tbody>\n",
              "</table>\n",
              "</div>\n",
              "    <div class=\"colab-df-buttons\">\n",
              "\n",
              "  <div class=\"colab-df-container\">\n",
              "    <button class=\"colab-df-convert\" onclick=\"convertToInteractive('df-5cf9fe37-2e6c-4f02-9dbd-8b8e7b234907')\"\n",
              "            title=\"Convert this dataframe to an interactive table.\"\n",
              "            style=\"display:none;\">\n",
              "\n",
              "  <svg xmlns=\"http://www.w3.org/2000/svg\" height=\"24px\" viewBox=\"0 -960 960 960\">\n",
              "    <path d=\"M120-120v-720h720v720H120Zm60-500h600v-160H180v160Zm220 220h160v-160H400v160Zm0 220h160v-160H400v160ZM180-400h160v-160H180v160Zm440 0h160v-160H620v160ZM180-180h160v-160H180v160Zm440 0h160v-160H620v160Z\"/>\n",
              "  </svg>\n",
              "    </button>\n",
              "\n",
              "  <style>\n",
              "    .colab-df-container {\n",
              "      display:flex;\n",
              "      gap: 12px;\n",
              "    }\n",
              "\n",
              "    .colab-df-convert {\n",
              "      background-color: #E8F0FE;\n",
              "      border: none;\n",
              "      border-radius: 50%;\n",
              "      cursor: pointer;\n",
              "      display: none;\n",
              "      fill: #1967D2;\n",
              "      height: 32px;\n",
              "      padding: 0 0 0 0;\n",
              "      width: 32px;\n",
              "    }\n",
              "\n",
              "    .colab-df-convert:hover {\n",
              "      background-color: #E2EBFA;\n",
              "      box-shadow: 0px 1px 2px rgba(60, 64, 67, 0.3), 0px 1px 3px 1px rgba(60, 64, 67, 0.15);\n",
              "      fill: #174EA6;\n",
              "    }\n",
              "\n",
              "    .colab-df-buttons div {\n",
              "      margin-bottom: 4px;\n",
              "    }\n",
              "\n",
              "    [theme=dark] .colab-df-convert {\n",
              "      background-color: #3B4455;\n",
              "      fill: #D2E3FC;\n",
              "    }\n",
              "\n",
              "    [theme=dark] .colab-df-convert:hover {\n",
              "      background-color: #434B5C;\n",
              "      box-shadow: 0px 1px 3px 1px rgba(0, 0, 0, 0.15);\n",
              "      filter: drop-shadow(0px 1px 2px rgba(0, 0, 0, 0.3));\n",
              "      fill: #FFFFFF;\n",
              "    }\n",
              "  </style>\n",
              "\n",
              "    <script>\n",
              "      const buttonEl =\n",
              "        document.querySelector('#df-5cf9fe37-2e6c-4f02-9dbd-8b8e7b234907 button.colab-df-convert');\n",
              "      buttonEl.style.display =\n",
              "        google.colab.kernel.accessAllowed ? 'block' : 'none';\n",
              "\n",
              "      async function convertToInteractive(key) {\n",
              "        const element = document.querySelector('#df-5cf9fe37-2e6c-4f02-9dbd-8b8e7b234907');\n",
              "        const dataTable =\n",
              "          await google.colab.kernel.invokeFunction('convertToInteractive',\n",
              "                                                    [key], {});\n",
              "        if (!dataTable) return;\n",
              "\n",
              "        const docLinkHtml = 'Like what you see? Visit the ' +\n",
              "          '<a target=\"_blank\" href=https://colab.research.google.com/notebooks/data_table.ipynb>data table notebook</a>'\n",
              "          + ' to learn more about interactive tables.';\n",
              "        element.innerHTML = '';\n",
              "        dataTable['output_type'] = 'display_data';\n",
              "        await google.colab.output.renderOutput(dataTable, element);\n",
              "        const docLink = document.createElement('div');\n",
              "        docLink.innerHTML = docLinkHtml;\n",
              "        element.appendChild(docLink);\n",
              "      }\n",
              "    </script>\n",
              "  </div>\n",
              "\n",
              "\n",
              "<div id=\"df-44a3337b-c010-4902-8f3a-87def713db8b\">\n",
              "  <button class=\"colab-df-quickchart\" onclick=\"quickchart('df-44a3337b-c010-4902-8f3a-87def713db8b')\"\n",
              "            title=\"Suggest charts\"\n",
              "            style=\"display:none;\">\n",
              "\n",
              "<svg xmlns=\"http://www.w3.org/2000/svg\" height=\"24px\"viewBox=\"0 0 24 24\"\n",
              "     width=\"24px\">\n",
              "    <g>\n",
              "        <path d=\"M19 3H5c-1.1 0-2 .9-2 2v14c0 1.1.9 2 2 2h14c1.1 0 2-.9 2-2V5c0-1.1-.9-2-2-2zM9 17H7v-7h2v7zm4 0h-2V7h2v10zm4 0h-2v-4h2v4z\"/>\n",
              "    </g>\n",
              "</svg>\n",
              "  </button>\n",
              "\n",
              "<style>\n",
              "  .colab-df-quickchart {\n",
              "      --bg-color: #E8F0FE;\n",
              "      --fill-color: #1967D2;\n",
              "      --hover-bg-color: #E2EBFA;\n",
              "      --hover-fill-color: #174EA6;\n",
              "      --disabled-fill-color: #AAA;\n",
              "      --disabled-bg-color: #DDD;\n",
              "  }\n",
              "\n",
              "  [theme=dark] .colab-df-quickchart {\n",
              "      --bg-color: #3B4455;\n",
              "      --fill-color: #D2E3FC;\n",
              "      --hover-bg-color: #434B5C;\n",
              "      --hover-fill-color: #FFFFFF;\n",
              "      --disabled-bg-color: #3B4455;\n",
              "      --disabled-fill-color: #666;\n",
              "  }\n",
              "\n",
              "  .colab-df-quickchart {\n",
              "    background-color: var(--bg-color);\n",
              "    border: none;\n",
              "    border-radius: 50%;\n",
              "    cursor: pointer;\n",
              "    display: none;\n",
              "    fill: var(--fill-color);\n",
              "    height: 32px;\n",
              "    padding: 0;\n",
              "    width: 32px;\n",
              "  }\n",
              "\n",
              "  .colab-df-quickchart:hover {\n",
              "    background-color: var(--hover-bg-color);\n",
              "    box-shadow: 0 1px 2px rgba(60, 64, 67, 0.3), 0 1px 3px 1px rgba(60, 64, 67, 0.15);\n",
              "    fill: var(--button-hover-fill-color);\n",
              "  }\n",
              "\n",
              "  .colab-df-quickchart-complete:disabled,\n",
              "  .colab-df-quickchart-complete:disabled:hover {\n",
              "    background-color: var(--disabled-bg-color);\n",
              "    fill: var(--disabled-fill-color);\n",
              "    box-shadow: none;\n",
              "  }\n",
              "\n",
              "  .colab-df-spinner {\n",
              "    border: 2px solid var(--fill-color);\n",
              "    border-color: transparent;\n",
              "    border-bottom-color: var(--fill-color);\n",
              "    animation:\n",
              "      spin 1s steps(1) infinite;\n",
              "  }\n",
              "\n",
              "  @keyframes spin {\n",
              "    0% {\n",
              "      border-color: transparent;\n",
              "      border-bottom-color: var(--fill-color);\n",
              "      border-left-color: var(--fill-color);\n",
              "    }\n",
              "    20% {\n",
              "      border-color: transparent;\n",
              "      border-left-color: var(--fill-color);\n",
              "      border-top-color: var(--fill-color);\n",
              "    }\n",
              "    30% {\n",
              "      border-color: transparent;\n",
              "      border-left-color: var(--fill-color);\n",
              "      border-top-color: var(--fill-color);\n",
              "      border-right-color: var(--fill-color);\n",
              "    }\n",
              "    40% {\n",
              "      border-color: transparent;\n",
              "      border-right-color: var(--fill-color);\n",
              "      border-top-color: var(--fill-color);\n",
              "    }\n",
              "    60% {\n",
              "      border-color: transparent;\n",
              "      border-right-color: var(--fill-color);\n",
              "    }\n",
              "    80% {\n",
              "      border-color: transparent;\n",
              "      border-right-color: var(--fill-color);\n",
              "      border-bottom-color: var(--fill-color);\n",
              "    }\n",
              "    90% {\n",
              "      border-color: transparent;\n",
              "      border-bottom-color: var(--fill-color);\n",
              "    }\n",
              "  }\n",
              "</style>\n",
              "\n",
              "  <script>\n",
              "    async function quickchart(key) {\n",
              "      const quickchartButtonEl =\n",
              "        document.querySelector('#' + key + ' button');\n",
              "      quickchartButtonEl.disabled = true;  // To prevent multiple clicks.\n",
              "      quickchartButtonEl.classList.add('colab-df-spinner');\n",
              "      try {\n",
              "        const charts = await google.colab.kernel.invokeFunction(\n",
              "            'suggestCharts', [key], {});\n",
              "      } catch (error) {\n",
              "        console.error('Error during call to suggestCharts:', error);\n",
              "      }\n",
              "      quickchartButtonEl.classList.remove('colab-df-spinner');\n",
              "      quickchartButtonEl.classList.add('colab-df-quickchart-complete');\n",
              "    }\n",
              "    (() => {\n",
              "      let quickchartButtonEl =\n",
              "        document.querySelector('#df-44a3337b-c010-4902-8f3a-87def713db8b button');\n",
              "      quickchartButtonEl.style.display =\n",
              "        google.colab.kernel.accessAllowed ? 'block' : 'none';\n",
              "    })();\n",
              "  </script>\n",
              "</div>\n",
              "\n",
              "    </div>\n",
              "  </div>\n"
            ],
            "text/plain": [
              "   fit  user_id bust_size  item_id  weight  rating     rented_for  \\\n",
              "0  fit   420272       34d  2260466   137.0       1       vacation   \n",
              "1  fit   273551       34b   153475   132.0       1          other   \n",
              "2  fit   360448       NaN  1063761     NaN       1          party   \n",
              "3  fit   909926       34c   126335   135.0       0  formal affair   \n",
              "4  fit   151944       34b   616682   145.0       1        wedding   \n",
              "\n",
              "                                         review_text          body_type  \\\n",
              "0  An adorable romper! Belt and zipper were a lit...          hourglass   \n",
              "1  I rented this dress for a photo shoot. The the...  straight & narrow   \n",
              "2  This hugged in all the right places! It was a ...                NaN   \n",
              "3  I rented this for my company's black tie award...               pear   \n",
              "4  I have always been petite in my upper body and...           athletic   \n",
              "\n",
              "                                      review_summary category  height  size  \\\n",
              "0                               So many compliments!   romper    68.0    14   \n",
              "1                            I felt so glamourous!!!     gown    66.0    12   \n",
              "2  It was a great time to celebrate the (almost) ...   sheath    64.0     4   \n",
              "3   Dress arrived on time and in perfect condition.     dress    65.0     8   \n",
              "4                    Was in love with this dress !!!     gown    69.0    12   \n",
              "\n",
              "     age         review_date  \n",
              "0   28.0      April 20, 2016  \n",
              "1   36.0       June 18, 2013  \n",
              "2  116.0   December 14, 2015  \n",
              "3   34.0   February 12, 2014  \n",
              "4   27.0  September 26, 2016  "
            ]
          },
          "metadata": {},
          "output_type": "display_data"
        }
      ],
      "source": [
        "import pandas as pd\n",
        "import json\n",
        "import numpy as np\n",
        "import re\n",
        "\n",
        "json_file_path = \"notebook_assets/renttherunway_final_data.json\"\n",
        "data = pd.read_json(json_file_path, lines=True)\n",
        "\n",
        "# Function to convert weight string to numerical format.\n",
        "def extract_weight(value):\n",
        "    if pd.isna(value):\n",
        "        return np.nan\n",
        "\n",
        "    # Find numeric part using regular expression\n",
        "    match = re.search(r'(\\d+)', str(value))\n",
        "    if match:\n",
        "        return int(match.group(1))\n",
        "    return np.nan\n",
        "\n",
        "# Function to convert height string form feet and inches to inches in numerical format.\n",
        "def convert_height(value):\n",
        "    if pd.isna(value):\n",
        "        return np.nan\n",
        "\n",
        "    # Extract feet and inches using regex\n",
        "    match = re.search(r'[-]?(\\d+)\\'\\s*(\\d+)\"?', str(value))\n",
        "\n",
        "    if match:\n",
        "        feet = int(match.group(1))\n",
        "        inches = int(match.group(2))\n",
        "\n",
        "        # Calculate total inches\n",
        "        total_inches = feet * 12 + inches\n",
        "        return total_inches\n",
        "\n",
        "    return np.nan\n",
        "\n",
        "\n",
        "data['weight'] = data['weight'].apply(extract_weight)\n",
        "data['height'] = data['height'].apply(convert_height)\n",
        "data['rating'] = data['rating'].apply(lambda x: 1 if x>8 else 0)\n",
        "\n",
        "data.rename(columns = {'rented for': 'rented_for', 'body type': 'body_type', 'bust size': 'bust_size'}, inplace = True)\n",
        "data.to_csv('notebook_assets/events.csv', sep='\\t', index=False)\n",
        "display(data.head())"
      ]
    },
    {
      "cell_type": "markdown",
      "id": "5fcc78b0-0f8a-46ce-a74a-57197ce787a7",
      "metadata": {
        "id": "5fcc78b0-0f8a-46ce-a74a-57197ce787a7"
      },
      "source": [
        "## Upload Data to Shaped"
      ]
    },
    {
      "cell_type": "markdown",
      "id": "1a54450a-9c9a-4bc8-aaa7-36eb7e400f3b",
      "metadata": {
        "id": "1a54450a-9c9a-4bc8-aaa7-36eb7e400f3b"
      },
      "source": [
        "Shaped has support for many data connectors! For this tutorial we're going to be using native Shaped Datasets. To do that we need to:\n",
        "1. Create a .yaml file containing the dataset schema definition.\n",
        "2. Use Shaped CLI to create the dataset.\n",
        "3. Use Shaped CLI to upload the .csv files we just created."
      ]
    },
    {
      "cell_type": "code",
      "execution_count": 9,
      "id": "e3d84d1c-d47c-4138-8fd4-00f8b049bd78",
      "metadata": {
        "id": "e3d84d1c-d47c-4138-8fd4-00f8b049bd78"
      },
      "outputs": [],
      "source": [
        "\"\"\"\n",
        "Create a Shaped Dataset schema for each of the datasets and store in a .yaml file.\n",
        "\"\"\"\n",
        "\n",
        "import yaml\n",
        "\n",
        "dir_path = \"notebook_assets\"\n",
        "\n",
        "events_dataset_schema = {\n",
        "    \"name\": \"rent_runway_events\",\n",
        "    \"schema_type\": \"CUSTOM\",\n",
        "    \"column_schema\": {\n",
        "        \"fit\": \"String\",\n",
        "        \"user_id\": \"String\",\n",
        "        \"bust_size\": \"String\",\n",
        "        \"item_id\": \"String\",\n",
        "        \"weight\": \"Int32\",\n",
        "        \"rating\": \"Int32\",\n",
        "        \"rented_for\": \"String\",\n",
        "        \"review_text\": \"String\",\n",
        "        \"body_type\": \"String\",\n",
        "        \"review_summary\": \"String\",\n",
        "        \"category\": \"String\",\n",
        "        \"height\": \"Int32\",\n",
        "        \"size\": \"Int32\",\n",
        "        \"age\": \"Int32\",\n",
        "        \"review_date\": \"DateTime\"\n",
        "    }\n",
        "}\n",
        "\n",
        "with open(f'{dir_path}/events_dataset_schema.yaml', 'w') as file:\n",
        "    yaml.dump(events_dataset_schema, file)"
      ]
    },
    {
      "cell_type": "code",
      "execution_count": 10,
      "id": "fc61a5da-974f-4ed7-a66c-a6483bfe42fe",
      "metadata": {
        "colab": {
          "base_uri": "https://localhost:8080/"
        },
        "id": "fc61a5da-974f-4ed7-a66c-a6483bfe42fe",
        "outputId": "dbe8f014-669d-4a90-ffc2-b30f82747083"
      },
      "outputs": [
        {
          "name": "stdout",
          "output_type": "stream",
          "text": [
            "{\n",
            "  \"column_schema\": {\n",
            "    \"age\": \"Int32\",\n",
            "    \"body_type\": \"String\",\n",
            "    \"bust_size\": \"String\",\n",
            "    \"category\": \"String\",\n",
            "    \"fit\": \"String\",\n",
            "    \"height\": \"Int32\",\n",
            "    \"item_id\": \"String\",\n",
            "    \"rating\": \"Int32\",\n",
            "    \"rented_for\": \"String\",\n",
            "    \"review_date\": \"DateTime\",\n",
            "    \"review_summary\": \"String\",\n",
            "    \"review_text\": \"String\",\n",
            "    \"size\": \"Int32\",\n",
            "    \"user_id\": \"String\",\n",
            "    \"weight\": \"Int32\"\n",
            "  },\n",
            "  \"name\": \"rent_runway_events\",\n",
            "  \"schema_type\": \"CUSTOM\"\n",
            "}\n",
            "message: Dataset with name 'rent_runway_events' was successfully scheduled for creation\n",
            "\n"
          ]
        }
      ],
      "source": [
        "\"\"\"\n",
        "Create a Shaped Dataset using the .yaml schema files.\n",
        "\"\"\"\n",
        "! shaped create-dataset --file $DIR_NAME/events_dataset_schema.yaml"
      ]
    },
    {
      "cell_type": "markdown",
      "id": "dfef66a7-6dbc-4be1-bd4d-16bf6035e818",
      "metadata": {
        "id": "dfef66a7-6dbc-4be1-bd4d-16bf6035e818"
      },
      "source": [
        "It takes a moment to provision the infrastructure required for the datasets. You can monitor them using the CLI commnad:"
      ]
    },
    {
      "cell_type": "code",
      "execution_count": 11,
      "id": "89ce2e26-3f5a-41ed-ae8b-d97033276b2f",
      "metadata": {
        "colab": {
          "base_uri": "https://localhost:8080/"
        },
        "id": "89ce2e26-3f5a-41ed-ae8b-d97033276b2f",
        "outputId": "f0731cb7-a697-4c89-ca99-6b878c56758c",
        "scrolled": true
      },
      "outputs": [
        {
          "name": "stdout",
          "output_type": "stream",
          "text": [
            "datasets:\n",
            "- dataset_name: amazon_beauty_products\n",
            "  dataset_uri: https://api.shaped.ai/v1/datasets/amazon_beauty_products\n",
            "  created_at: 2024-07-16T02:40:32 UTC\n",
            "  schema_type: CUSTOM\n",
            "  status: ACTIVE\n",
            "- dataset_name: amazon_games_items\n",
            "  dataset_uri: https://api.shaped.ai/v1/datasets/amazon_games_items\n",
            "  created_at: 2024-07-17T00:08:38 UTC\n",
            "  schema_type: CUSTOM\n",
            "  status: ACTIVE\n",
            "- dataset_name: amazon_beauty_ratings\n",
            "  dataset_uri: https://api.shaped.ai/v1/datasets/amazon_beauty_ratings\n",
            "  created_at: 2024-10-17T14:56:58 UTC\n",
            "  schema_type: CUSTOM\n",
            "  status: ACTIVE\n",
            "- dataset_name: amazon_games_ratings\n",
            "  dataset_uri: https://api.shaped.ai/v1/datasets/amazon_games_ratings\n",
            "  created_at: 2024-10-29T16:20:36 UTC\n",
            "  schema_type: CUSTOM\n",
            "  status: ACTIVE\n",
            "- dataset_name: h_and_m_transactions\n",
            "  dataset_uri: https://api.shaped.ai/v1/datasets/h_and_m_transactions\n",
            "  created_at: 2024-11-18T03:37:01 UTC\n",
            "  schema_type: CUSTOM\n",
            "  status: ACTIVE\n",
            "- dataset_name: h_and_m_articles\n",
            "  dataset_uri: https://api.shaped.ai/v1/datasets/h_and_m_articles\n",
            "  created_at: 2024-11-18T22:30:06 UTC\n",
            "  schema_type: CUSTOM\n",
            "  status: ACTIVE\n",
            "- dataset_name: h_and_m_customers\n",
            "  dataset_uri: https://api.shaped.ai/v1/datasets/h_and_m_customers\n",
            "  created_at: 2024-11-18T22:30:15 UTC\n",
            "  schema_type: CUSTOM\n",
            "  status: ACTIVE\n",
            "- dataset_name: shaped_docs_search\n",
            "  dataset_uri: https://api.shaped.ai/v1/datasets/shaped_docs_search\n",
            "  created_at: 2025-02-06T20:10:44 UTC\n",
            "  schema_type: CUSTOM\n",
            "  status: ACTIVE\n",
            "- dataset_name: dataset\n",
            "  dataset_uri: https://api.shaped.ai/v1/datasets/dataset\n",
            "  created_at: 2025-02-22T00:22:07 UTC\n",
            "  schema_type: CUSTOM\n",
            "  status: ACTIVE\n",
            "- dataset_name: courses_db_v1\n",
            "  dataset_uri: https://api.shaped.ai/v1/datasets/courses_db_v1\n",
            "  created_at: 2025-02-26T18:02:52 UTC\n",
            "  schema_type: CUSTOM\n",
            "  status: ACTIVE\n",
            "- dataset_name: movielens_events\n",
            "  dataset_uri: https://api.shaped.ai/v1/datasets/movielens_events\n",
            "  created_at: 2025-03-04T15:34:30 UTC\n",
            "  schema_type: BIGQUERY\n",
            "  status: ACTIVE\n",
            "- dataset_name: movielens_users\n",
            "  dataset_uri: https://api.shaped.ai/v1/datasets/movielens_users\n",
            "  created_at: 2025-03-04T15:34:38 UTC\n",
            "  schema_type: MYSQL\n",
            "  status: ACTIVE\n",
            "- dataset_name: movielens_items\n",
            "  dataset_uri: https://api.shaped.ai/v1/datasets/movielens_items\n",
            "  created_at: 2025-03-04T15:34:43 UTC\n",
            "  schema_type: POSTGRES\n",
            "  status: ACTIVE\n",
            "- dataset_name: rent_runway_events\n",
            "  dataset_uri: https://api.shaped.ai/v1/datasets/rent_runway_events\n",
            "  created_at: 2025-03-05T12:28:04 UTC\n",
            "  schema_type: CUSTOM\n",
            "  status: ACTIVE\n",
            "\n"
          ]
        }
      ],
      "source": [
        "! shaped list-datasets"
      ]
    },
    {
      "cell_type": "code",
      "execution_count": 12,
      "id": "aa15ba77-5c06-4a06-9ce4-2827bc3b620e",
      "metadata": {
        "colab": {
          "base_uri": "https://localhost:8080/"
        },
        "id": "aa15ba77-5c06-4a06-9ce4-2827bc3b620e",
        "outputId": "8e58957e-9bb0-40ea-f135-93d7329fecc4",
        "scrolled": true
      },
      "outputs": [
        {
          "name": "stdout",
          "output_type": "stream",
          "text": [
            "192544 Records [03:18, 971.97 Records/s]\n"
          ]
        }
      ],
      "source": [
        "\"\"\"\n",
        "Upload the .csv files. You'll see the records uploading in batches of 1000. To upload all 192,544 events, it will take a couple minutes.\n",
        "\"\"\"\n",
        "\n",
        "! shaped dataset-insert --dataset-name rent_runway_events --file notebook_assets/events.csv --type 'tsv'"
      ]
    },
    {
      "cell_type": "markdown",
      "id": "dc8baa59-ee10-4182-b968-96239cad9991",
      "metadata": {
        "id": "dc8baa59-ee10-4182-b968-96239cad9991"
      },
      "source": [
        "## Model Creation\n",
        "\n",
        "We're now ready to create your Shaped model! To keep things simple, today, we're using the ratings records to build a collaborative filtering model. Shaped will use these ratings to determine which users like which items with the assumption that the user likes an item if the label is 1 and don't like it if the rating filed is 0.\n",
        "\n",
        "\n",
        "1. Create a .yaml file containing the model schema definition.\n",
        "2. Use Shaped CLI to create the model!\n",
        "\n",
        "For further details about creating models please refer to the [Create Model](https://docs.shaped.ai/docs/api#tag/Model/operation/post_create_models_post) API reference."
      ]
    },
    {
      "cell_type": "code",
      "execution_count": 13,
      "id": "d2e8be5a-2817-493e-a8d7-5c586dee72be",
      "metadata": {
        "id": "d2e8be5a-2817-493e-a8d7-5c586dee72be"
      },
      "outputs": [],
      "source": [
        "\"\"\"\n",
        "Create a Shaped Model schema and store in a .yaml file.\n",
        "\"\"\"\n",
        "\n",
        "import yaml\n",
        "\n",
        "rent_runway_model_schema = {\n",
        "    \"model\": {\n",
        "        \"name\": \"rent_runway_recommendations\"\n",
        "    },\n",
        "    \"connectors\": [\n",
        "        {\n",
        "            \"type\": \"Dataset\",\n",
        "            \"id\": \"rent_runway_events\",\n",
        "            \"name\": \"rent_runway_events\"\n",
        "        },\n",
        "    ],\n",
        "    \"fetch\": {\n",
        "        \"events\": \"SELECT user_id, item_id, review_date AS created_at, rating AS label, rented_for, review_text, review_summary FROM rent_runway_events\",\n",
        "        \"users\": \"SELECT user_id, bust_size, weight, body_type, height, age FROM rent_runway_events\",\n",
        "        \"items\": \"SELECT item_id, fit, category, size FROM rent_runway_events\"\n",
        "    }\n",
        "}\n",
        "\n",
        "with open(f'{dir_path}/rent_runway_model_schema.yaml', 'w') as file:\n",
        "    yaml.dump(rent_runway_model_schema, file)"
      ]
    },
    {
      "cell_type": "code",
      "execution_count": null,
      "id": "80c35c6c-39fc-4040-8702-0ef10917cc08",
      "metadata": {
        "id": "80c35c6c-39fc-4040-8702-0ef10917cc08"
      },
      "outputs": [],
      "source": [
        "\"\"\"\n",
        "Create a Shaped Model using the .yaml schema file.\n",
        "\"\"\"\n",
        "\n",
        "! shaped create-model --file $DIR_NAME/rent_runway_model_schema.yaml"
      ]
    },
    {
      "cell_type": "markdown",
      "id": "cf247fc5-01c9-485f-b448-c7cb47e12e85",
      "metadata": {
        "id": "cf247fc5-01c9-485f-b448-c7cb47e12e85"
      },
      "source": [
        "Your recommendation model can take up to a few hours to provision your infrastructure and train on your historic events. This time mostly depends on how large your dataset is i.e. the volume of your users, items and interactions and the number of attributes you're providing.\n",
        "\n",
        "While the model is being setup, you can view its status with either the [List Models](https://docs.shaped.ai/docs/api#tag/Model/operation/get_models_models_get) or [View Model](https://docs.shaped.ai/docs/api) endpoints. For example, with the CLI:"
      ]
    },
    {
      "cell_type": "code",
      "execution_count": 17,
      "id": "81dd9c6a-70c8-450b-9413-b336212f1a96",
      "metadata": {
        "colab": {
          "base_uri": "https://localhost:8080/"
        },
        "id": "81dd9c6a-70c8-450b-9413-b336212f1a96",
        "outputId": "aea44c50-32b0-4591-a6ea-bc6ccc0ea42a"
      },
      "outputs": [
        {
          "name": "stdout",
          "output_type": "stream",
          "text": [
            "models:\n",
            "- model_name: movielens_recommendations\n",
            "  model_uri: https://api.shaped.ai/v1/models/movielens_recommendations\n",
            "  created_at: 2024-07-16T17:12:06 UTC\n",
            "  status: ACTIVE\n",
            "- model_name: amazon_game_recommendations\n",
            "  model_uri: https://api.shaped.ai/v1/models/amazon_game_recommendations\n",
            "  created_at: 2024-07-17T00:23:15 UTC\n",
            "  status: ACTIVE\n",
            "- model_name: h_and_m_fashion_recommendations_session\n",
            "  description: 3M raw events\n",
            "  model_uri: https://api.shaped.ai/v1/models/h_and_m_fashion_recommendations_session\n",
            "  created_at: 2025-01-21T20:38:45 UTC\n",
            "  status: ACTIVE\n",
            "- model_name: shaped_docs_search_model\n",
            "  model_uri: https://api.shaped.ai/v1/models/shaped_docs_search_model\n",
            "  created_at: 2025-02-06T20:44:45 UTC\n",
            "  status: ACTIVE\n",
            "- model_name: movielens_valuemodel\n",
            "  model_uri: https://api.shaped.ai/v1/models/movielens_valuemodel\n",
            "  created_at: 2025-03-04T18:35:24 UTC\n",
            "  status: ACTIVE\n",
            "- model_name: movielens_valuemodel_2\n",
            "  model_uri: https://api.shaped.ai/v1/models/movielens_valuemodel_2\n",
            "  created_at: 2025-03-04T20:52:42 UTC\n",
            "  status: ACTIVE\n",
            "- model_name: rent_runway_recommendations\n",
            "  model_uri: https://api.shaped.ai/v1/models/rent_runway_recommendations\n",
            "  created_at: 2025-03-05T12:31:49 UTC\n",
            "  status: FETCHING\n",
            "\n"
          ]
        }
      ],
      "source": [
        "! shaped list-models"
      ]
    },
    {
      "cell_type": "markdown",
      "id": "889368ec-d0bc-457b-8aab-9e18be651270",
      "metadata": {
        "id": "889368ec-d0bc-457b-8aab-9e18be651270"
      },
      "source": [
        "The initial model creation goes through the following stages in order:\n",
        "\n",
        "1. `SCHEDULING`<br/>\n",
        "2. `FETCHING`<br/>\n",
        "3. `TUNING`<br/>\n",
        "4. `TRAINING`<br/>\n",
        "5. `DEPLOYING`<br/>\n",
        "6. `ACTIVE`\n",
        "\n",
        "You can periodically poll Shaped to inspect these status changes. Once it's in the ACTIVE state, you can move to next step and use it to make rank requests."
      ]
    },
    {
      "cell_type": "markdown",
      "id": "f2d84903-78f3-45dc-ac78-7832172f1770",
      "metadata": {
        "id": "f2d84903-78f3-45dc-ac78-7832172f1770"
      },
      "source": [
        "## Rank"
      ]
    },
    {
      "cell_type": "markdown",
      "id": "a76d7cf0-19b0-4378-9dea-c0376cfd3454",
      "metadata": {
        "id": "a76d7cf0-19b0-4378-9dea-c0376cfd3454"
      },
      "source": [
        "You're now ready to fetch your movie recommendations! You can do this with the [Rank endpoint](https://docs.shaped.ai/docs/api#tag/Rank/operation/post_rank_models__model_id__rank_post). Just provide the user_id you wish to get the recommendations for and the number of recommendations you want returned.\n",
        "\n",
        "Shaped's CLI provides a convenience rank command to quickly retrieve results from the command line. You can use it as follows:"
      ]
    },
    {
      "cell_type": "code",
      "execution_count": null,
      "id": "a9c723ce-3780-477c-9cb2-1117fa413472",
      "metadata": {
        "id": "a9c723ce-3780-477c-9cb2-1117fa413472"
      },
      "outputs": [],
      "source": [
        "! shaped rank --model-name rent_runway_recommendations --user-id 1 --limit 5"
      ]
    },
    {
      "cell_type": "markdown",
      "id": "1a3b152c-161b-43d0-8c62-4c64253e67f4",
      "metadata": {
        "id": "1a3b152c-161b-43d0-8c62-4c64253e67f4"
      },
      "source": [
        "The response returns 2 parallel arrays containing the ids and ranking scores for the movies that Shaped estimates are most interesting to the given user.\n",
        "\n",
        "If you want to integrate this endpoint into your website or application you can use the Rank POST REST endpoint directly with the following request:"
      ]
    },
    {
      "cell_type": "code",
      "execution_count": null,
      "id": "fa89348c-fb7d-45af-b8cb-a5ff2233b7df",
      "metadata": {
        "id": "fa89348c-fb7d-45af-b8cb-a5ff2233b7df"
      },
      "outputs": [],
      "source": [
        "! curl https://api.prod.shaped.ai/v1/models/rent_runway_recommendations/rank \\\n",
        "  -H \"x-api-key: <API_KEY>\" \\\n",
        "  -H \"Content-Type: application/json\" \\\n",
        "  -d '{ \"user_id\": \"1\", \"limit\": 5 }'"
      ]
    },
    {
      "cell_type": "markdown",
      "id": "85afe1d2-771d-4b40-9512-595d9169b55d",
      "metadata": {
        "id": "85afe1d2-771d-4b40-9512-595d9169b55d"
      },
      "source": [
        "Wow! It was that easy to see top 5 rated movies for the passed in `user_id` 🍾. Now let's add ranking to your product :)"
      ]
    },
    {
      "cell_type": "markdown",
      "id": "eaad00d1-c4a7-490f-b311-bfb5b2584a3a",
      "metadata": {
        "id": "eaad00d1-c4a7-490f-b311-bfb5b2584a3a"
      },
      "source": [
        "## Clean Up"
      ]
    },
    {
      "cell_type": "markdown",
      "id": "9c9ee680-70f7-46c9-903c-1c1cb783325f",
      "metadata": {
        "id": "9c9ee680-70f7-46c9-903c-1c1cb783325f"
      },
      "source": [
        "Don't forget to delete your model (and its assets) and the datasets once you're finished with them. You can do it with the following CLI command:"
      ]
    },
    {
      "cell_type": "code",
      "execution_count": null,
      "id": "6f210798-57a3-4cc9-a17f-c129413b85e5",
      "metadata": {
        "id": "6f210798-57a3-4cc9-a17f-c129413b85e5"
      },
      "outputs": [],
      "source": [
        "! shaped delete-model --model-name rent_runway_recommendations\n",
        "\n",
        "! shaped delete-dataset --dataset-name rent_runway_events\n",
        "\n",
        "! rm -r notebook_assets"
      ]
    }
  ],
  "metadata": {
    "colab": {
      "provenance": []
    },
    "kernelspec": {
      "display_name": "Python 3 (ipykernel)",
      "language": "python",
      "name": "python3"
    },
    "language_info": {
      "codemirror_mode": {
        "name": "ipython",
        "version": 3
      },
      "file_extension": ".py",
      "mimetype": "text/x-python",
      "name": "python",
      "nbconvert_exporter": "python",
      "pygments_lexer": "ipython3",
      "version": "3.11.11"
    }
  },
  "nbformat": 4,
  "nbformat_minor": 5
}
