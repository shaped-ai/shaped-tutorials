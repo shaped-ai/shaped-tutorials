{
  "cells": [
    {
      "cell_type": "markdown",
      "metadata": {
        "id": "fN6Izi4LwLOa"
      },
      "source": [
        "# Steam Review Dataset Recommendation Tutorial\n",
        "\n",
        "This notebook will walk you through an example of setting up a model for the Steam Australian Users reviews dataset and then fetching ranked games for a specific user. The dataset contains review data from Australian Steam users, including which games they've reviewed and whether they recommended them.\n",
        "\n",
        "Let's get started! 🚀"
      ],
      "id": "fN6Izi4LwLOa"
    },
    {
      "cell_type": "markdown",
      "metadata": {
        "id": "tUwRmJuBwLOb"
      },
      "source": [
        "### Setup"
      ],
      "id": "tUwRmJuBwLOb"
    },
    {
      "cell_type": "markdown",
      "metadata": {
        "id": "WhwtH38MwLOb"
      },
      "source": [
        "Replace `<YOUR_API_KEY>` with your API key below.\n",
        "\n",
        "*If you don't have an API Key, feel free to [signup on our website](https://www.shaped.ai/#contact-us) :)*"
      ],
      "id": "WhwtH38MwLOb"
    },
    {
      "cell_type": "code",
      "execution_count": null,
      "metadata": {
        "id": "dzN62WJKwLOc"
      },
      "outputs": [],
      "source": [
        "import os\n",
        "\n",
        "SHAPED_API_KEY = os.getenv('TEST_SHAPED_API_KEY', '<YOUR_API_KEY>')"
      ],
      "id": "dzN62WJKwLOc"
    },
    {
      "cell_type": "markdown",
      "metadata": {
        "id": "CzBebiYwwLOc"
      },
      "source": [
        "1. Install `shaped` to leverage the Shaped CLI to create, view, and use your model.\n",
        "2. Install `pandas` to view and edit the sample dataset.\n",
        "3. Install `pyyaml` to create Shaped Dataset and Model schema files.\n",
        "4. Install `numpy` for numerical operations."
      ],
      "id": "CzBebiYwwLOc"
    },
    {
      "cell_type": "code",
      "execution_count": null,
      "metadata": {
        "id": "ny4uUT4OwLOc"
      },
      "outputs": [],
      "source": [
        "! pip install shaped\n",
        "! pip install pandas\n",
        "! pip install pyyaml\n",
        "! pip install numpy"
      ],
      "id": "ny4uUT4OwLOc"
    },
    {
      "cell_type": "markdown",
      "metadata": {
        "id": "u0TDmIOEwLOc"
      },
      "source": [
        "Initialize the CLI with your API key."
      ],
      "id": "u0TDmIOEwLOc"
    },
    {
      "cell_type": "code",
      "execution_count": null,
      "metadata": {
        "id": "0kdcVdW9wLOc"
      },
      "outputs": [],
      "source": [
        "! shaped init --api-key $SHAPED_API_KEY"
      ],
      "id": "0kdcVdW9wLOc"
    },
    {
      "cell_type": "markdown",
      "metadata": {
        "id": "QpHZuF_wwLOc"
      },
      "source": [
        "### Download Public Dataset"
      ],
      "id": "QpHZuF_wwLOc"
    },
    {
      "cell_type": "markdown",
      "metadata": {
        "id": "PUuZpgpxwLOc"
      },
      "source": [
        "Fetch the publicly hosted Steam Australian Users reviews dataset. This dataset contains information about Australian Steam users and the games they've reviewed."
      ],
      "id": "PUuZpgpxwLOc"
    },
    {
      "cell_type": "code",
      "execution_count": null,
      "metadata": {
        "id": "I-cHXJaTwLOd"
      },
      "outputs": [],
      "source": [
        "! wget https://mcauleylab.ucsd.edu/public_datasets/data/steam/australian_user_reviews.json.gz --no-check-certificate"
      ],
      "id": "I-cHXJaTwLOd"
    },
    {
      "cell_type": "markdown",
      "metadata": {
        "id": "gmTv6EmbwLOd"
      },
      "source": [
        "### Parse and Prepare the Dataset"
      ],
      "id": "gmTv6EmbwLOd"
    },
    {
      "cell_type": "markdown",
      "metadata": {
        "id": "zYDgiCNYwLOd"
      },
      "source": [
        "The Steam reviews dataset is stored in a JSON.gz file with a slightly complex structure. Each record contains a user_id and an array of reviews for different games. We need to transform this into a flattened format where each row represents a single user-game review.\n",
        "\n",
        "Let's examine how to parse this data:"
      ],
      "id": "zYDgiCNYwLOd"
    },
    {
      "cell_type": "code",
      "execution_count": null,
      "metadata": {
        "id": "E5vPdLRxwLOd"
      },
      "outputs": [],
      "source": [
        "import pandas as pd\n",
        "import numpy as np\n",
        "import gzip\n",
        "import json\n",
        "\n",
        "def parse(path):\n",
        "    \"\"\"Parse each line of the compressed JSON file.\"\"\"\n",
        "    g = gzip.open(path, 'r')\n",
        "    for l in g:\n",
        "        yield eval(l)\n",
        "\n",
        "def read_data(path):\n",
        "    \"\"\"Read all data from the compressed JSON file.\"\"\"\n",
        "    data = list(parse(path))\n",
        "    return data"
      ],
      "id": "E5vPdLRxwLOd"
    },
    {
      "cell_type": "markdown",
      "metadata": {
        "id": "Xt5U8gGRwLOd"
      },
      "source": [
        "Now we'll read the dataset, flatten its structure, and save it as a TSV file that Shaped can work with."
      ],
      "id": "Xt5U8gGRwLOd"
    },
    {
      "cell_type": "code",
      "execution_count": null,
      "metadata": {
        "id": "wsXVlBXIwLOd"
      },
      "outputs": [],
      "source": [
        "# Read the compressed dataset\n",
        "users_reviews = read_data('australian_user_reviews.json.gz')\n",
        "\n",
        "# Parse the user reviews data\n",
        "def parse_reviews_data(json_data):\n",
        "    \"\"\"Extract structured data from the reviews JSON.\"\"\"\n",
        "    cleaned_reviews = []\n",
        "\n",
        "    for user_data in json_data:\n",
        "        user_id = user_data.get('user_id')\n",
        "\n",
        "        # Process each review for this user\n",
        "        if 'reviews' in user_data and isinstance(user_data['reviews'], list):\n",
        "            for review in user_data['reviews']:\n",
        "                # Extract needed fields\n",
        "                item_id = review.get('item_id')\n",
        "                recommend = 1 if review.get('recommend', False) else 0\n",
        "\n",
        "                # Parse the posted date if available\n",
        "                posted_date = review.get('posted', '')\n",
        "                # Extract date from string like 'Posted November 5, 2011.'\n",
        "                import re\n",
        "                date_match = re.search(r'Posted (\\w+ \\d+, \\d{4})', posted_date)\n",
        "\n",
        "                if date_match:\n",
        "                    from datetime import datetime\n",
        "                    try:\n",
        "                        # Parse the date string to a datetime object\n",
        "                        date_str = date_match.group(1)\n",
        "                        date_obj = datetime.strptime(date_str, '%B %d, %Y')\n",
        "                        # Convert to YYYY-MM-DD format\n",
        "                        created_at = date_obj.strftime('%Y-%m-%d')\n",
        "                    except:\n",
        "                        # Use a default date if parsing fails\n",
        "                        created_at = '2000-01-01'\n",
        "                else:\n",
        "                    created_at = '2000-01-01'\n",
        "\n",
        "                # Create clean review record\n",
        "                clean_review = {\n",
        "                    'user_id': user_id,\n",
        "                    'item_id': item_id,\n",
        "                    'created_at': created_at,\n",
        "                    'recommend': recommend\n",
        "                }\n",
        "\n",
        "                cleaned_reviews.append(clean_review)\n",
        "\n",
        "    return cleaned_reviews\n",
        "\n",
        "# Get the cleaned reviews data\n",
        "cleaned_reviews = parse_reviews_data(users_reviews)\n",
        "\n",
        "# Convert cleaned reviews to a DataFrame\n",
        "df = pd.DataFrame(cleaned_reviews)\n",
        "print(f\"Dataset shape: {df.shape}\")\n",
        "print(\"Sample data:\")\n",
        "print(df.head())\n",
        "\n",
        "# Save as TSV\n",
        "csv_file_path = 'user_reviews.csv'\n",
        "df.to_csv(csv_file_path, sep='\\t', index=False)"
      ],
      "id": "wsXVlBXIwLOd"
    },
    {
      "cell_type": "markdown",
      "metadata": {
        "id": "XzKUVDJOwLOd"
      },
      "source": [
        "### Upload Data to Shaped"
      ],
      "id": "XzKUVDJOwLOd"
    },
    {
      "cell_type": "markdown",
      "metadata": {
        "id": "4Mnhvbi3wLOd"
      },
      "source": [
        "Now that we have our data prepared, let's upload it to Shaped. First, we'll define a dataset schema:"
      ],
      "id": "4Mnhvbi3wLOd"
    },
    {
      "cell_type": "code",
      "execution_count": null,
      "metadata": {
        "id": "BsjfGr4XwLOd"
      },
      "outputs": [],
      "source": [
        "import yaml\n",
        "steam_review_events_schema = {\n",
        "    \"name\": \"steam_review_events\",\n",
        "    \"schema_type\": \"CUSTOM\",\n",
        "    \"column_schema\": {\n",
        "        \"user_id\": \"String\",\n",
        "        \"item_id\": \"String\",\n",
        "        \"created_at\": \"DateTime\",  # Using DateTime for review dates\n",
        "        \"recommend\": \"Int32\"      # 1 for recommended, 0 for not recommended\n",
        "    }\n",
        "}\n",
        "\n",
        "# Save schema to YAML file\n",
        "schema_file_path = 'steam_review_events_schema.yaml'\n",
        "with open(schema_file_path, 'w') as file:\n",
        "    yaml.dump(steam_review_events_schema, file)"
      ],
      "id": "BsjfGr4XwLOd"
    },
    {
      "cell_type": "markdown",
      "metadata": {
        "id": "qCEqF2l7wLOd"
      },
      "source": [
        "Create the dataset from the schema:"
      ],
      "id": "qCEqF2l7wLOd"
    },
    {
      "cell_type": "code",
      "execution_count": null,
      "metadata": {
        "id": "EOEBW9UmwLOd"
      },
      "outputs": [],
      "source": [
        "! shaped create-dataset --file steam_review_events_schema.yaml"
      ],
      "id": "EOEBW9UmwLOd"
    },
    {
      "cell_type": "markdown",
      "metadata": {
        "id": "StgSC4mDwLOd"
      },
      "source": [
        "Insert the data into the dataset:"
      ],
      "id": "StgSC4mDwLOd"
    },
    {
      "cell_type": "code",
      "execution_count": null,
      "metadata": {
        "id": "NKlQc0bwwLOd"
      },
      "outputs": [],
      "source": [
        "! shaped dataset-insert --dataset-name steam_review_events --file user_reviews.csv --type 'tsv'"
      ],
      "id": "NKlQc0bwwLOd"
    },
    {
      "cell_type": "markdown",
      "metadata": {
        "id": "eSaeLkSTwLOe"
      },
      "source": [
        "Let's check if the dataset was created successfully:"
      ],
      "id": "eSaeLkSTwLOe"
    },
    {
      "cell_type": "code",
      "execution_count": null,
      "metadata": {
        "id": "kmS2z1WuwLOe"
      },
      "outputs": [],
      "source": [
        "! shaped list-datasets"
      ],
      "id": "kmS2z1WuwLOe"
    },
    {
      "cell_type": "markdown",
      "metadata": {
        "id": "a5-EzTEdwLOe"
      },
      "source": [
        "### Model Creation"
      ],
      "id": "a5-EzTEdwLOe"
    },
    {
      "cell_type": "markdown",
      "metadata": {
        "id": "0CG3Ej_KwLOe"
      },
      "source": [
        "We're now ready to create our recommendation model! We'll use the review data to build a collaborative filtering model. Shaped will use this data to determine which users like which games, with the assumption that if a user has recommended a game, they have a positive sentiment towards it.\n",
        "\n",
        "First, let's define our model schema:"
      ],
      "id": "0CG3Ej_KwLOe"
    },
    {
      "cell_type": "code",
      "execution_count": null,
      "metadata": {
        "id": "Vg0MxQBLwLOe"
      },
      "outputs": [],
      "source": [
        "import yaml\n",
        "\n",
        "steam_model_schema = {\n",
        "    \"model\": {\n",
        "        \"name\": \"steam_review_game_recommendations\"\n",
        "    },\n",
        "    \"connectors\": [\n",
        "        {\n",
        "            \"type\": \"Dataset\",\n",
        "            \"id\": \"steam_review_events\",\n",
        "            \"name\": \"steam_review_events\"\n",
        "        }\n",
        "    ],\n",
        "    \"fetch\": {\n",
        "        \"events\": \"SELECT user_id, item_id, created_at, recommend AS label FROM steam_review_events\"\n",
        "    }\n",
        "}\n",
        "\n",
        "# Save the model schema to a YAML file\n",
        "with open('steam_review_model_schema.yaml', 'w') as file:\n",
        "    yaml.dump(steam_model_schema, file)"
      ],
      "id": "Vg0MxQBLwLOe"
    },
    {
      "cell_type": "markdown",
      "metadata": {
        "id": "2n2mEPfWwLOe"
      },
      "source": [
        "Now, let's create the model using our schema file:"
      ],
      "id": "2n2mEPfWwLOe"
    },
    {
      "cell_type": "code",
      "execution_count": null,
      "metadata": {
        "id": "0sDZPo2ywLOe"
      },
      "outputs": [],
      "source": [
        "! shaped create-model --file steam_review_model_schema.yaml"
      ],
      "id": "0sDZPo2ywLOe"
    },
    {
      "cell_type": "markdown",
      "metadata": {
        "id": "lHXM7VxdwLOe"
      },
      "source": [
        "Let's check the status of our model:"
      ],
      "id": "lHXM7VxdwLOe"
    },
    {
      "cell_type": "code",
      "execution_count": null,
      "metadata": {
        "id": "yTJXXCxCwLOe"
      },
      "outputs": [],
      "source": [
        "! shaped list-models"
      ],
      "id": "yTJXXCxCwLOe"
    },
    {
      "cell_type": "markdown",
      "metadata": {
        "id": "aatO5ChCwLOe"
      },
      "source": [
        "Your recommendation model can take up to a few hours to provision your infrastructure and train on your historic events. This time mostly depends on how large your dataset is i.e. the volume of your users, items and interactions and the number of attributes you're providing.\n",
        "\n",
        "The initial model creation goes through the following stages in order:\n",
        "\n",
        "1. `SCHEDULING`<br/>\n",
        "2. `FETCHING`<br/>\n",
        "3. `TUNING`<br/>\n",
        "4. `TRAINING`<br/>\n",
        "5. `DEPLOYING`<br/>\n",
        "6. `ACTIVE`\n",
        "\n",
        "You can periodically poll Shaped to inspect these status changes. Once it's in the ACTIVE state, you can move to next step and use it to make rank requests."
      ],
      "id": "aatO5ChCwLOe"
    },
    {
      "cell_type": "markdown",
      "source": [],
      "metadata": {
        "id": "ffR_aqKUp-UU"
      },
      "id": "ffR_aqKUp-UU"
    },
    {
      "cell_type": "markdown",
      "metadata": {
        "id": "3vpp50-1wLOe"
      },
      "source": [
        "### Rank!"
      ],
      "id": "3vpp50-1wLOe"
    },
    {
      "cell_type": "markdown",
      "metadata": {
        "id": "W_QZ9OhJwLOe"
      },
      "source": [
        "You're now ready to fetch your game recommendations! You can do this with the [Rank endpoint](https://docs.shaped.ai/docs/api/#tag/Model-Inference/operation/post_rank_models__model_id__rank_post). Just provide the user_id you wish to get the recommendations for and the number of recommendations you want returned.\n",
        "\n",
        "Shaped's CLI provides a convenience rank command to quickly retrieve results from the command line. You can use it as follows:"
      ],
      "id": "W_QZ9OhJwLOe"
    },
    {
      "cell_type": "code",
      "execution_count": null,
      "metadata": {
        "id": "DCTo2VJCwLOe"
      },
      "outputs": [],
      "source": [
        "! shaped rank --model-name steam_review_game_recommendations --user-id '76561197970982479' --limit 5"
      ],
      "id": "DCTo2VJCwLOe"
    },
    {
      "cell_type": "markdown",
      "metadata": {
        "id": "8_37MK-KwLOe"
      },
      "source": [
        "The response returns 2 parallel arrays containing the ids and ranking scores for the games that Shaped estimates are most interesting to the given user.\n",
        "\n",
        "If you want to integrate this endpoint into your website or application you can use the Rank POST REST endpoint directly with the following request:"
      ],
      "id": "8_37MK-KwLOe"
    },
    {
      "cell_type": "code",
      "execution_count": null,
      "metadata": {
        "id": "BRUPzgkWwLOe"
      },
      "outputs": [],
      "source": [
        "'''\n",
        "curl https://api.prod.shaped.ai/v1/models/steam_review_game_recommendations/rank \\\n",
        "  -H \"x-api-key: <YOUR_API_KEY>\" \\\n",
        "  -H \"Content-Type: application/json\" \\\n",
        "  -d '{\n",
        "    \"user_id\": \"76561197970982479\",\n",
        "    \"limit\": 5\n",
        "  }'\n",
        "'''"
      ],
      "id": "BRUPzgkWwLOe"
    },
    {
      "cell_type": "markdown",
      "metadata": {
        "id": "cwXdChPSwLOf"
      },
      "source": [
        "### Clean Up"
      ],
      "id": "cwXdChPSwLOf"
    },
    {
      "cell_type": "markdown",
      "metadata": {
        "id": "tYGEqrwVwLOf"
      },
      "source": [
        "Don't forget to delete your model (and its assets) and the dataset once you're finished with them. You can do it with the following CLI command:"
      ],
      "id": "tYGEqrwVwLOf"
    },
    {
      "cell_type": "code",
      "execution_count": null,
      "metadata": {
        "id": "nML-yZSvwLOf"
      },
      "outputs": [],
      "source": [
        "! shaped delete-model --model-name steam_review_game_recommendations\n",
        "! shaped delete-dataset --dataset-name steam_review_events"
      ],
      "id": "nML-yZSvwLOf"
    }
  ],
  "metadata": {
    "kernelspec": {
      "display_name": "Python 3 (ipykernel)",
      "language": "python",
      "name": "python3"
    },
    "language_info": {
      "codemirror_mode": {
        "name": "ipython",
        "version": 3
      },
      "file_extension": ".py",
      "mimetype": "text/x-python",
      "name": "python",
      "nbconvert_exporter": "python",
      "pygments_lexer": "ipython3",
      "version": "3.11.6"
    },
    "vscode": {
      "interpreter": {
        "hash": "b0fa6594d8f4cbf19f97940f81e996739fb7646882a419484c72d19e05852a7e"
      }
    },
    "colab": {
      "provenance": []
    }
  },
  "nbformat": 4,
  "nbformat_minor": 5
}