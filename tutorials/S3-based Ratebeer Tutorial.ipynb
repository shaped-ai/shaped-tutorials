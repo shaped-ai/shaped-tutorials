{
 "cells": [
  {
   "attachments": {},
   "cell_type": "markdown",
   "id": "64912faf",
   "metadata": {},
   "source": [
    "This notebook will walk you through an example of setting up a model for the delicious beverages contained within the RateBeer dataset, fetching ranked beers for a specific user, and finding similar beers.\n",
    "\n",
    "Let's get started! 🚀"
   ]
  },
  {
   "cell_type": "markdown",
   "id": "b3f8240f",
   "metadata": {},
   "source": [
    "### Setup"
   ]
  },
  {
   "attachments": {},
   "cell_type": "markdown",
   "id": "40680972",
   "metadata": {},
   "source": [
    "Replace `{YOUR_API_KEY}` with your API key below.\n",
    "\n",
    "*If you don't have an API Key, feel free to [signup on our website](https://www.shaped.ai/#contact-us) :)*"
   ]
  },
  {
   "cell_type": "code",
   "execution_count": null,
   "id": "e86cab99",
   "metadata": {},
   "outputs": [],
   "source": [
    "SHAPED_BASE_URL = \"https://api.prod.shaped.ai/v0\"\n",
    "SHAPED_API_KEY = \"{YOUR_API_KEY}\""
   ]
  },
  {
   "attachments": {},
   "cell_type": "markdown",
   "id": "21421238",
   "metadata": {},
   "source": [
    "Install the packages needed:\n",
    "- `requests` is needed for making HTTP requests\n",
    "- `pandas` is needed for handling the data\n",
    "- `boto3` is needed for making calls to AWS, specifically s3\n",
    "- `tqdm` is a great library for providing progress bars for long-running commands, in this case, file processing"
   ]
  },
  {
   "cell_type": "code",
   "execution_count": null,
   "id": "7ef4cefc",
   "metadata": {
    "scrolled": true
   },
   "outputs": [],
   "source": [
    "!pip install requests\n",
    "!pip install pandas\n",
    "!pip install boto3\n",
    "!pip install tqdm"
   ]
  },
  {
   "cell_type": "markdown",
   "id": "a29093ac",
   "metadata": {},
   "source": [
    "Import the modules needed."
   ]
  },
  {
   "cell_type": "code",
   "execution_count": null,
   "id": "3a05fb9b",
   "metadata": {},
   "outputs": [],
   "source": [
    "import json\n",
    "import pandas as pd\n",
    "import requests\n",
    "import gzip\n",
    "import ast\n",
    "from datetime import datetime\n",
    "from IPython.display import display\n",
    "from tqdm import tqdm\n",
    "from urllib.request import urlretrieve"
   ]
  },
  {
   "attachments": {},
   "cell_type": "markdown",
   "id": "ef322ca0",
   "metadata": {},
   "source": [
    "### Download and Normalize Public Dataset"
   ]
  },
  {
   "attachments": {},
   "cell_type": "markdown",
   "id": "a29093ac",
   "metadata": {},
   "source": [
    "Fetch the publicly hosted Ratebeer dataset using the cell below."
   ]
  },
  {
   "cell_type": "code",
   "execution_count": null,
   "id": "e0f89d23",
   "metadata": {},
   "outputs": [],
   "source": [
    "print(\"Downloading Ratebeer data.\")\n",
    "RATEBEER_ARCHIVE_URL = \"http://jmcauley.ucsd.edu/data/beer/ratebeer.json.gz\"\n",
    "FILENAME_GZ = \"ratebeer.json.gz\"\n",
    "FILENAME = \"ratebeer.json\"\n",
    "\n",
    "def tqdm_reporthook(tqdm):\n",
    "    \"\"\"Hook to wrap 'tqdm' library to provide download progress.\"\"\"\n",
    "    last_b = [0]\n",
    "\n",
    "    def update_to(b=1, bsize=1, tsize=None):\n",
    "        if tsize is not None:\n",
    "            tqdm.total = tsize\n",
    "        tqdm.update((b - last_b[0]) * bsize)\n",
    "        last_b[0] = b\n",
    "\n",
    "    return update_to\n",
    "\n",
    "with tqdm(unit = 'B', unit_scale = True, unit_divisor = 1024, miniters = 1, desc = FILENAME_GZ) as t:\n",
    "    urlretrieve(RATEBEER_ARCHIVE_URL, filename=FILENAME_GZ, reporthook=tqdm_reporthook(t))\n",
    "\n",
    "with gzip.open(FILENAME_GZ) as ratebeer_dict_file:\n",
    "    line_count = sum(1 for _ in ratebeer_dict_file)\n",
    "\n",
    "print(f\"Ratebeer interactions line count: {line_count}.\")"
   ]
  },
  {
   "attachments": {},
   "cell_type": "markdown",
   "id": "cf1832c0",
   "metadata": {},
   "source": [
    "Shaped supports ingesting compressed data files (such as GZip), but as this file is formatted as line-delimited Python dictionaries, we must unzip the file, and normalize the rows to a line-delimited JSON file (JSONL).\n",
    "\n",
    "We also require to normalize the rating columns in the Dataframe to provide integer values, e.g. \"12/20\" becomes 12."
   ]
  },
  {
   "cell_type": "code",
   "execution_count": null,
   "id": "782a9f7c",
   "metadata": {},
   "outputs": [],
   "source": [
    "print(\"Normalizing Ratebeer interaction dicts.\")\n",
    "with gzip.open(FILENAME_GZ) as ratebeer_dict_file:\n",
    "    # Evaluate each line in file as a Python dictionary stored as utf-8 string\n",
    "    dict_list = [\n",
    "        ast.literal_eval(str(ratebeer_dict_line, 'utf-8'))\n",
    "        for ratebeer_dict_line in tqdm(ratebeer_dict_file, total=line_count)\n",
    "    ]\n",
    "\n",
    "print(\"Converting rating columns to integers.\")\n",
    "df = pd.DataFrame(dict_list)\n",
    "\n",
    "def normalize_review_series(*df_keys):\n",
    "    for df_key in df_keys:\n",
    "        df[df_key] = df[df_key].str.split('/').str[0].dropna().astype(int)\n",
    "\n",
    "normalize_review_series(\n",
    "    'review/overall', \n",
    "    'review/appearance',\n",
    "    'review/aroma',\n",
    "    'review/palate',\n",
    "    'review/taste',\n",
    ")\n",
    "\n",
    "print(df.head())\n",
    "print(f\"Writing JSONL to file {FILENAME}.\")\n",
    "df.to_json(path_or_buf=FILENAME, orient='records', lines=True)"
   ]
  },
  {
   "cell_type": "markdown",
   "id": "db51f80f",
   "metadata": {},
   "source": [
    "### Upload Data to Shaped"
   ]
  },
  {
   "attachments": {},
   "cell_type": "markdown",
   "id": "2fb59a55",
   "metadata": {},
   "source": [
    "Once we have all our data prepared, we can upload it using a [`POST` call to the `/models` endpoint](https://docs.shaped.ai/reference/create-model). The body of the request contains all the info needed to setup the model. [Please reference the docs for details on each field and their types](https://docs.shaped.ai/reference/create-model).\n",
    "\n",
    "For simplicity, we are specifying the user and item schemas to use the name of the profile (`review/profileName`), and the name of the beer (`beer/name`) respectively to identify the Item and User entities. In a production environment it is recommended to use well-known user and item identifiers to integrate your service into the Shaped Model API.\n",
    "\n",
    "*If you try `POST`ing to the `/models` endpoint multiple times with the same `model_name`, you will encounter an error saying `\"Model with name: '{model_name}' already exists with status: '{status}'\"`. If you would like to update or create a new model with the same `model_name` you must first delete the existing model with `model_name`. You can do that by making a [`DELETE` request to the `/models/{model_name}` endpoint](https://docs.shaped.ai/reference/delete-model). The `DELETE` call can be made from the cell in the Clean Up section at the bottom of this notebook.*"
   ]
  },
  {
   "cell_type": "code",
   "execution_count": null,
   "id": "779eecba",
   "metadata": {
    "scrolled": true
   },
   "outputs": [],
   "source": [
    "MODEL_NAME = \"rating_ratebeer\"\n",
    "response = requests.post(\n",
    "    f\"{SHAPED_BASE_URL}/models\",\n",
    "    headers={\n",
    "        \"x-api-key\": SHAPED_API_KEY,\n",
    "        \"Content-Type\":\"application/json\"\n",
    "    },\n",
    "    json={\n",
    "        \"model_name\": MODEL_NAME,\n",
    "        \"connector_configs\": [\n",
    "            {\n",
    "                \"id\": \"file\",\n",
    "                \"type\": \"File\"\n",
    "            }\n",
    "        ],\n",
    "        \"schema\": {\n",
    "            \"user\": {\n",
    "                \"id\": \"review/profileName\",\n",
    "            },\n",
    "            \"item\": {\n",
    "                \"id\": \"beer/name\"\n",
    "            },\n",
    "            \"interaction\": {\n",
    "                \"label\": {\n",
    "                    \"name\": \"review/overall\",\n",
    "                    \"type\": \"Rating\"\n",
    "                },\n",
    "                \"source\": {\n",
    "                    \"connector_id\": \"file\",\n",
    "                    \"path\": FILENAME\n",
    "                },\n",
    "                \"created_at\": \"review/time\"\n",
    "            }\n",
    "        }\n",
    "    }\n",
    ")\n",
    "upload_request = json.loads(response.content)\n",
    "print(json.dumps(upload_request, indent=2))"
   ]
  },
  {
   "attachments": {},
   "cell_type": "markdown",
   "id": "afb8e6ae",
   "metadata": {},
   "source": [
    "The `response` from the `POST` call to the `/models` endpoint returns a json object containing info, namely `'url'` and `'fields'`, about the s3 bucket to upload your data to. So let's go ahead and use those to upload our Ratebeer data! This can take some time depending on your connection upload speed so feel free to sit back as the data is uploaded and the Shaped model begins to build!\n",
    "\n",
    "*In this example we are using the `File` type in the `connector_config` which requires explicitly uploading the data to an s3 bucket. If we use a different supported type, like `Redshift` for example, the data will be pulled directly from your Datasource and won't require you to manually upload it.*"
   ]
  },
  {
   "cell_type": "code",
   "execution_count": null,
   "id": "66a08345",
   "metadata": {},
   "outputs": [],
   "source": [
    "with open(FILENAME, 'rb') as file:\n",
    "    files = {'file': (FILENAME, file)}\n",
    "    upload_response = requests.post(\n",
    "        upload_request['upload_file_url']['url'], \n",
    "        data=upload_request['upload_file_url']['fields'], \n",
    "        files=files\n",
    "    )\n",
    "\n",
    "print(f\"Upload response: {upload_response}.\")"
   ]
  },
  {
   "cell_type": "markdown",
   "id": "da878c37",
   "metadata": {},
   "source": [
    "### Rank!"
   ]
  },
  {
   "cell_type": "markdown",
   "id": "a3344515",
   "metadata": {},
   "source": [
    "After we make the `POST` call to `/models`, we can make a [`GET` call to `/models`](https://shaped.stoplight.io/docs/shaped-api/b3A6NDA5ODEzNjY-list-models) to see our newly created model. "
   ]
  },
  {
   "cell_type": "code",
   "execution_count": null,
   "id": "f083f3e3",
   "metadata": {},
   "outputs": [],
   "source": [
    "response = requests.get(\n",
    "    f\"{SHAPED_BASE_URL}/models\",\n",
    "    headers={\n",
    "        \"x-api-key\": SHAPED_API_KEY,\n",
    "        \"Content-Type\":\"application/json\"\n",
    "    }\n",
    ")\n",
    "print(json.dumps(json.loads(response.content), indent=2))"
   ]
  },
  {
   "cell_type": "markdown",
   "id": "d27e0445",
   "metadata": {},
   "source": [
    "You'll notice the `\"status\"` of the model you just created is most likely `\"PREPARING\"`. This means that the initial training job hasn't completed yet. Depending on the size of your data this could take up to 30 min. Feel free to keep querying the `/models` endpoint to check the status of your model. When it is ready, the `\"status\"` will read `\"ACTIVE\"`."
   ]
  },
  {
   "cell_type": "markdown",
   "id": "02f3cf22",
   "metadata": {},
   "source": [
    "Once your model is ready (`\"status\": \"ACTIVE\"`), you can hit the [`/models/{model_name}/rank?context_id={context_id}` endpoint](https://docs.shaped.ai/reference/rank)!\n",
    "\n",
    "Remember, `{context_id}` is the id of the entity (in this example, User) you want to fetch rankings for. You can also add an optional query param, `limit`, which will inform how many results to return (with the default being 5)."
   ]
  },
  {
   "cell_type": "code",
   "execution_count": null,
   "id": "f7275532",
   "metadata": {},
   "outputs": [],
   "source": [
    "response = requests.get(\n",
    "    f\"{SHAPED_BASE_URL}/models/{MODEL_NAME}/rank?context_id=1\",\n",
    "    headers={\n",
    "        \"x-api-key\": SHAPED_API_KEY,\n",
    "        \"Content-Type\":\"application/json\"\n",
    "    }\n",
    ")\n",
    "print(json.dumps(json.loads(response.content), indent=2))"
   ]
  },
  {
   "cell_type": "markdown",
   "id": "99b60aab",
   "metadata": {},
   "source": [
    "Wow! It was that easy to see top 15 rated movies for the passed in `context_id` 🍾. Now let's add ranking to your product :)"
   ]
  },
  {
   "cell_type": "markdown",
   "id": "f0e498cd",
   "metadata": {},
   "source": [
    "### Clean Up"
   ]
  },
  {
   "cell_type": "markdown",
   "id": "c38af39f",
   "metadata": {},
   "source": [
    "__The below code should ONLY be run if you want to delete the model with `model_name`.__"
   ]
  },
  {
   "cell_type": "code",
   "execution_count": null,
   "id": "4ca47e20",
   "metadata": {},
   "outputs": [],
   "source": [
    "response = requests.delete(\n",
    "    f\"{SHAPED_BASE_URL}/models/{MODEL_NAME}\",\n",
    "    headers={\n",
    "        \"x-api-key\": SHAPED_API_KEY,\n",
    "        \"Content-Type\":\"application/json\"\n",
    "    }\n",
    ")\n",
    "print(json.dumps(json.loads(response.content), indent=2))"
   ]
  }
 ],
 "metadata": {
  "kernelspec": {
   "display_name": "Python 3",
   "language": "python",
   "name": "python3"
  },
  "language_info": {
   "codemirror_mode": {
    "name": "ipython",
    "version": 3
   },
   "file_extension": ".py",
   "mimetype": "text/x-python",
   "name": "python",
   "nbconvert_exporter": "python",
   "pygments_lexer": "ipython3",
   "version": "3.9.13"
  },
  "vscode": {
   "interpreter": {
    "hash": "6fecff911df43f40fa1f07340302e85341184e92101a6bd817d97277e67b4dc9"
   }
  }
 },
 "nbformat": 4,
 "nbformat_minor": 5
}
